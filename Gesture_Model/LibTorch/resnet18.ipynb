{
 "cells": [
  {
   "cell_type": "code",
   "execution_count": 2,
   "metadata": {},
   "outputs": [
    {
     "name": "stdout",
     "output_type": "stream",
     "text": [
      "Successfully created scriptmodule file resnet18_scriptmodule.pt.\n"
     ]
    }
   ],
   "source": [
    "import torch\n",
    "import torchvision\n",
    "\n",
    "\n",
    "def main():\n",
    "    # Source: https://github.com/yunjey/pytorch-tutorial/blob/master/tutorials/01-basics/pytorch_basics/main.py\n",
    "    # Download and load the pretrained ResNet-18.\n",
    "    model = torchvision.models.resnet18(pretrained=True)\n",
    "\n",
    "    # If you want to finetune only the top layer of the model, set as below\n",
    "    for param in model.parameters():\n",
    "        param.requires_grad = False\n",
    "\n",
    "    # Replace the top layer for finetuning.\n",
    "    model.fc = torch.nn.Linear(model.fc.in_features, 100)\n",
    "\n",
    "    # Source: https://pytorch.org/tutorials/advanced/cpp_export.html#converting-to-torch-script-via-tracing\n",
    "    # An example input you would normally provide to your model's forward() method.\n",
    "    example = torch.rand(1, 3, 224, 224)\n",
    "\n",
    "    # Use torch.jit.trace to generate a torch.jit.ScriptModule via tracing.\n",
    "    traced_script_module = torch.jit.trace(model, example)\n",
    "\n",
    "    # Serialize scriptmodule to a file.\n",
    "    filename = \"resnet18_scriptmodule.pt\"\n",
    "    traced_script_module.save(filename)\n",
    "    print(f\"Successfully created scriptmodule file {filename}.\")\n",
    "\n",
    "\n",
    "if __name__ == \"__main__\":\n",
    "    main()"
   ]
  }
 ],
 "metadata": {
  "kernelspec": {
   "display_name": "NeRF",
   "language": "python",
   "name": "python3"
  },
  "language_info": {
   "codemirror_mode": {
    "name": "ipython",
    "version": 3
   },
   "file_extension": ".py",
   "mimetype": "text/x-python",
   "name": "python",
   "nbconvert_exporter": "python",
   "pygments_lexer": "ipython3",
   "version": "3.9.12"
  },
  "orig_nbformat": 4,
  "vscode": {
   "interpreter": {
    "hash": "d379beeeffdbdc665e060ccd8f0c64a12e889cd80cfca66d216f8adad98c9b40"
   }
  }
 },
 "nbformat": 4,
 "nbformat_minor": 2
}
